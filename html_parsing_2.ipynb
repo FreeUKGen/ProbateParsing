{
 "cells": [
  {
   "cell_type": "code",
   "execution_count": 3,
   "metadata": {},
   "outputs": [],
   "source": [
    "from bs4 import BeautifulSoup\n",
    "from PIL import Image\n",
    "import string\n",
    "path = \"Cropped_C2/\"\n",
    "dest_path = \"Cropped_C2/\"\n",
    "hocr_path = \"1873 Probate/hocr_C2/\"\n",
    "test_image = \"00298_1.jpg\"\n",
    "filename = test_image.split(\".\")[0]+\"_\"\n",
    "original = Image.open(path+test_image)\n",
    "max_w, max_h = original.size"
   ]
  },
  {
   "cell_type": "code",
   "execution_count": 4,
   "metadata": {},
   "outputs": [
    {
     "ename": "FileNotFoundError",
     "evalue": "[Errno 2] No such file or directory: '1873 Probate/hocr_C2/00298_1.jpg.hocr'",
     "output_type": "error",
     "traceback": [
      "\u001b[0;31m---------------------------------------------------------------------------\u001b[0m",
      "\u001b[0;31mFileNotFoundError\u001b[0m                         Traceback (most recent call last)",
      "\u001b[0;32m<ipython-input-4-31f861a31476>\u001b[0m in \u001b[0;36m<module>\u001b[0;34m()\u001b[0m\n\u001b[0;32m----> 1\u001b[0;31m \u001b[0;32mwith\u001b[0m \u001b[0mopen\u001b[0m\u001b[0;34m(\u001b[0m\u001b[0mhocr_path\u001b[0m\u001b[0;34m+\u001b[0m\u001b[0mtest_image\u001b[0m\u001b[0;34m+\u001b[0m\u001b[0;34m'.hocr'\u001b[0m\u001b[0;34m,\u001b[0m \u001b[0;34m'r'\u001b[0m\u001b[0;34m)\u001b[0m \u001b[0;32mas\u001b[0m \u001b[0mmyfile\u001b[0m\u001b[0;34m:\u001b[0m\u001b[0;34m\u001b[0m\u001b[0m\n\u001b[0m\u001b[1;32m      2\u001b[0m     \u001b[0mdata\u001b[0m\u001b[0;34m=\u001b[0m\u001b[0mmyfile\u001b[0m\u001b[0;34m.\u001b[0m\u001b[0mread\u001b[0m\u001b[0;34m(\u001b[0m\u001b[0;34m)\u001b[0m\u001b[0;34m.\u001b[0m\u001b[0mreplace\u001b[0m\u001b[0;34m(\u001b[0m\u001b[0;34m'\\n'\u001b[0m\u001b[0;34m,\u001b[0m \u001b[0;34m''\u001b[0m\u001b[0;34m)\u001b[0m\u001b[0;34m\u001b[0m\u001b[0m\n\u001b[1;32m      3\u001b[0m \u001b[0msoup\u001b[0m \u001b[0;34m=\u001b[0m \u001b[0mBeautifulSoup\u001b[0m\u001b[0;34m(\u001b[0m\u001b[0mdata\u001b[0m\u001b[0;34m,\u001b[0m \u001b[0;34m'lxml'\u001b[0m\u001b[0;34m)\u001b[0m\u001b[0;34m\u001b[0m\u001b[0m\n",
      "\u001b[0;31mFileNotFoundError\u001b[0m: [Errno 2] No such file or directory: '1873 Probate/hocr_C2/00298_1.jpg.hocr'"
     ]
    }
   ],
   "source": [
    "with open(hocr_path+test_image+'.hocr', 'r') as myfile:\n",
    "    data=myfile.read().replace('\\n', '')\n",
    "soup = BeautifulSoup(data, 'lxml')"
   ]
  },
  {
   "cell_type": "code",
   "execution_count": 83,
   "metadata": {},
   "outputs": [
    {
     "name": "stdout",
     "output_type": "stream",
     "text": [
      "  BAKER Henry.  i I“ Effects under £450.   \n",
      "29\n",
      "['bbox', '56', '1039', '622', '1160']\n"
     ]
    }
   ],
   "source": [
    "names = soup.find_all('div',attrs={\"class\":\"ocr_carea\"})\n",
    "print(names[4].text)\n",
    "print(len(names))\n",
    "coords = names[2].attrs['title'].split(\" \")\n",
    "print(coords)"
   ]
  },
  {
   "cell_type": "code",
   "execution_count": 84,
   "metadata": {},
   "outputs": [
    {
     "name": "stdout",
     "output_type": "stream",
     "text": [
      "  BAKER Hannah.  Effects under £100.   \n",
      "  '2 BAKER Harriet.  ‘ Effects under £7,000.   \n",
      "  . BAKER Henry.  Eﬁ‘ects under £6,000.   \n",
      "  BAKER Henry.  i ‘ . Effects under £6,000.   \n",
      "  BAKER Henry.  i I“ Effects under £450.   \n",
      "  .5 7i“. BAKER Henry.  Effects under £1,500 in England.   \n",
      "  :. BAKER Henry.  ,i‘ Eﬁ'ects under £200.   \n",
      "  l ‘2' BAKER Henry.  Effects under £200.   \n",
      "  i.  l  i  i  i   \n",
      "  i    3’    i BAKER Hezekiah.    .i 1 - Effects under £300.   \n",
      "  18- October. The Will of Hannah Baker formerly of  High-street but late of Five-Bells-lane both in Rochester in  the County of Kent Spinster who died 10 September 1873  at Five-Bells-lane was proved at the Principal Registry  by Alfred Newlyn of 5 Horslcy-road Rochester Attorney’s  Clerk the sole Executor.   \n",
      "  25 September. The Will with a Codicil of Harriet Baker  late of Cheltenham in the County of Gloucester Spinster  who died 17 August 1873 at Cheltenham was proved at  Gloucester by John Middlemiss the Elder of Cheltenham  Gardener and James Vanston Moles of Cheltenham Gentleman  two of the Executors.   \n",
      "  22 April. The Will of Henry Baker late of Goodworth  Clatford in the County of Southampton Farmer who died  22 February 1873 at Goodworth Clatford was proved at  Winchester by Mary Ann Baker of Goodworth Clatford  Spinster the Sister Frederick Perkins Baker of Appleshaw  in the said County Innkeeper and John Collins of Goodworth  Clatford Grocer the Executor-s.   \n",
      "  5 June. The Will of Henry Baker late of Brook House  Gasper in the County of Somerset Gentleman who died 18  March 1873 at Brook House was proved at Wells by Thomas  Henry Baker and Ernest Baker both of Mere in the County  of Wilts Yeomen the Sons the Executors.   \n",
      "  22 July. Administration (with the Will) of the effects of  Henry Baker late of Crescent-road Worthing in the County of  Sussex Florist who died 21 January 1873 at Worthing was  granted at Chichester to Harriet Baker of Worthing Widow  the Relict.   \n",
      "  23 July. The Will of Henry Baker formerly of]. Pancras.  lane Queen-street in the City of London Commission Agent   \n",
      "  ’ but late of Norwood in the Province of South Australia   \n",
      "  Gentleman who died 1 February 1873 at Norwood was proved  at the Principal Registry by John Baker of Ilminster in  the County of Somerset Gentleman the surviving Executor.   \n",
      "  31 October. The Will of Henry Baker late of 43 Regent-  street New Swindon in the County of Wilts Railway Guard  who died 5 July 1873 at New Swindon was proved at the   \n",
      "  Principal Registry by Henry Baker of 10 Edward-place  Cardiff in the County of Glamorgan Telegraphist the Son one  of the Executors.   \n",
      "  8 December. The Will of Henry Baker late of Ford’s-  row Abertillery in the County of Monmouth Contractor  who died 16 November 1873 at Ford’s-row was proved at   \n",
      "  Llandaﬁ' by Esther Baker of Ford’s-row Widow the Relict  the sole Exccutrix.   \n",
      "  7 November. The Will of Hezekiah Baker late of Lynsted  in the County of Kent Gentleman who died 6 June 1873 at  Lynsted was proved at the Principal Registry by Sarah  Baker of \\Lynsted Widow the Relict the surviving Executor.   \n"
     ]
    }
   ],
   "source": [
    "for name in names:\n",
    "    for name in names:\n",
    "        if(name.text.strip() == \"\" or name.text.strip().startswith(\"Image\") or len(name.text)<15):\n",
    "            names.remove(name)\n",
    "\n",
    "for name in names:\n",
    "    print(name.text)"
   ]
  },
  {
   "cell_type": "code",
   "execution_count": 85,
   "metadata": {},
   "outputs": [
    {
     "name": "stdout",
     "output_type": "stream",
     "text": [
      "BAKER\n",
      "'2\n",
      ".\n",
      "BAKER\n",
      "BAKER\n",
      ".5\n",
      ":.\n",
      "l\n",
      "i.\n",
      "i\n",
      "18-\n",
      "25\n",
      "22\n",
      "5\n",
      "22\n",
      "23\n",
      "’\n",
      "Gentleman\n",
      "31\n",
      "Principal\n",
      "8\n",
      "Llandaﬁ'\n",
      "7\n"
     ]
    }
   ],
   "source": [
    "entries = []\n",
    "for name in names:\n",
    "    first_word = name.text.strip().split(\" \")\n",
    "    print(first_word[0])\n",
    "    if(first_word[0].isupper() or '{' in name or '}' in name or first_word[0].split(string.punctuation)[-1].isupper()):\n",
    "        entries.append(name)"
   ]
  },
  {
   "cell_type": "code",
   "execution_count": 86,
   "metadata": {},
   "outputs": [
    {
     "name": "stdout",
     "output_type": "stream",
     "text": [
      "  BAKER Hannah.  Effects under £100.   \n",
      "  BAKER Henry.  i ‘ . Effects under £6,000.   \n",
      "  BAKER Henry.  i I“ Effects under £450.   \n"
     ]
    }
   ],
   "source": [
    "for entry in entries:\n",
    "    print(entry.text)"
   ]
  },
  {
   "cell_type": "code",
   "execution_count": 87,
   "metadata": {},
   "outputs": [
    {
     "name": "stdout",
     "output_type": "stream",
     "text": [
      "1 362 1480\n",
      "2 1601 1814\n"
     ]
    }
   ],
   "source": [
    "coords_initial = entries[0].attrs['title'].split(\" \")\n",
    "x1_curr = 0\n",
    "y1_curr = int(coords_initial[2])\n",
    "x2_curr = max_w\n",
    "y2_curr = int(coords_initial[4])\n",
    "i=0\n",
    "first=0\n",
    "for i in range(1, len(entries)):\n",
    "    coords = entries[i].attrs['title'].split(\" \")\n",
    "    x1_future = 0\n",
    "    y1_future = int(coords[2])\n",
    "    x2_future = max_w\n",
    "    y2_future = int(coords[4])\n",
    "    print(str(i)+\" \"+str(y2_curr)+\" \"+str(y1_future))\n",
    "    if(y1_future-y2_curr>0):\n",
    "        if(first == 0):\n",
    "            #print(entries[i].text)\n",
    "            cropped_example = original.crop((x1_curr, 0, x2_curr, (y1_curr-30)))\n",
    "            cropped_example.save(dest_path+filename+\"0.jpg\")\n",
    "            cropped_example = original.crop((x1_curr, (y1_curr-60), x2_curr, y1_curr+(y1_future-y2_curr+30)))\n",
    "            cropped_example.save(dest_path+filename+str(i)+\".jpg\")\n",
    "            first = 1\n",
    "        else:\n",
    "            #print(entries[i].text)\n",
    "            cropped_example = original.crop((x1_curr, (y1_curr-60), x2_curr, y1_curr+(y1_future-y2_curr+30)))\n",
    "            cropped_example.save(dest_path+filename+str(i)+\".jpg\")\n",
    "        \n",
    "    elif(i==len(entries)-1 or y1_future-y2_curr<=0):\n",
    "        print(\"Last element: \"+entries[i].text)\n",
    "        cropped_example = original.crop((x1_curr, (y1_future-60), x2_curr, max_h))\n",
    "        cropped_example.save(dest_path+filename+str(i)+\".jpg\")\n",
    "    x1_curr = x1_future\n",
    "    x2_curr = x2_future\n",
    "    y1_curr = y1_future\n",
    "    y2_curr = y2_future\n",
    "    i=i+1\n",
    "\n",
    "cropped_example = original.crop((x1_curr, (y1_future-60), x2_curr, max_h))\n",
    "cropped_example.save(dest_path+filename+str(i)+\".jpg\")"
   ]
  }
 ],
 "metadata": {
  "kernelspec": {
   "display_name": "Python 3",
   "language": "python",
   "name": "python3"
  },
  "language_info": {
   "codemirror_mode": {
    "name": "ipython",
    "version": 3
   },
   "file_extension": ".py",
   "mimetype": "text/x-python",
   "name": "python",
   "nbconvert_exporter": "python",
   "pygments_lexer": "ipython3",
   "version": "3.5.2"
  }
 },
 "nbformat": 4,
 "nbformat_minor": 2
}
