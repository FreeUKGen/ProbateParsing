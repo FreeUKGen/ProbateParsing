{
 "cells": [
  {
   "cell_type": "code",
   "execution_count": 1,
   "metadata": {},
   "outputs": [],
   "source": [
    "from bs4 import BeautifulSoup\n",
    "from PIL import Image\n",
    "test_image = \"00006.jpg\"\n",
    "original = Image.open(test_image)"
   ]
  },
  {
   "cell_type": "code",
   "execution_count": 2,
   "metadata": {},
   "outputs": [],
   "source": [
    "with open('0006.hocr', 'r') as myfile:\n",
    "    data=myfile.read().replace('\\n', '')\n",
    "soup = BeautifulSoup(data, 'lxml')"
   ]
  },
  {
   "cell_type": "code",
   "execution_count": 3,
   "metadata": {},
   "outputs": [
    {
     "name": "stdout",
     "output_type": "stream",
     "text": [
      "  ABBOTT John Hesman.  Effects under £5,000.   \n",
      "45\n",
      "['bbox', '0', '2540', '226', '4292']\n"
     ]
    }
   ],
   "source": [
    "names = soup.find_all('div',attrs={\"class\":\"ocr_carea\"})\n",
    "print(names[4].text)\n",
    "print(len(names))\n",
    "coords = names[2].attrs['title'].split(\" \")\n",
    "print(coords)"
   ]
  },
  {
   "cell_type": "code",
   "execution_count": 4,
   "metadata": {},
   "outputs": [
    {
     "name": "stdout",
     "output_type": "stream",
     "text": [
      "['bbox', '106', '555', '127', '1089']\n",
      "['bbox', '83', '1084', '179', '2206']\n",
      "['bbox', '0', '2540', '226', '4292']\n",
      "['bbox', '156', '85', '407', '107']\n",
      "['bbox', '347', '844', '935', '971']\n",
      "['bbox', '357', '1299', '960', '1428']\n",
      "['bbox', '365', '1721', '911', '1844']\n",
      "['bbox', '368', '2123', '917', '2251']\n",
      "['bbox', '375', '2469', '974', '2603']\n",
      "['bbox', '528', '2646', '1033', '2688']\n",
      "['bbox', '656', '2697', '898', '2736']\n",
      "['bbox', '382', '2947', '1063', '3087']\n",
      "['bbox', '610', '3121', '939', '3162']\n",
      "['bbox', '395', '3372', '948', '3501']\n",
      "['bbox', '379', '3765', '842', '3819']\n",
      "['bbox', '622', '3852', '950', '3896']\n",
      "['bbox', '517', '3936', '1085', '3985']\n",
      "['bbox', '528', '4096', '560', '4139']\n",
      "['bbox', '1210', '575', '2383', '748']\n",
      "['bbox', '1217', '805', '2392', '1196']\n",
      "['bbox', '1229', '1257', '2401', '1437']\n",
      "['bbox', '1232', '1427', '2449', '1494']\n",
      "['bbox', '1234', '1480', '2404', '1592']\n",
      "['bbox', '1238', '1667', '2417', '1840']\n",
      "['bbox', '1241', '1834', '2416', '1947']\n",
      "['bbox', '1242', '1966', '1441', '2001']\n",
      "['bbox', '1291', '2075', '2429', '2138']\n",
      "['bbox', '1234', '2126', '2425', '2189']\n",
      "['bbox', '1249', '2187', '2426', '2244']\n",
      "['bbox', '1251', '2245', '2428', '2362']\n",
      "['bbox', '1299', '2432', '2433', '2487']\n",
      "['bbox', '1258', '2488', '2437', '2598']\n",
      "['bbox', '1261', '2599', '2441', '2824']\n",
      "['bbox', '1270', '2902', '2455', '3239']\n",
      "['bbox', '1280', '3327', '2462', '3436']\n",
      "['bbox', '1241', '3442', '2463', '3507']\n",
      "['bbox', '1283', '3498', '2464', '3612']\n",
      "['bbox', '1330', '3700', '2470', '3751']\n",
      "['bbox', '1289', '3762', '2479', '4049']\n",
      "['bbox', '0', '0', '2774', '547']\n",
      "['bbox', '2659', '1734', '2772', '1785']\n",
      "['bbox', '2690', '2376', '2774', '2415']\n",
      "['bbox', '2711', '2962', '2774', '3004']\n",
      "['bbox', '2748', '3666', '2774', '3711']\n",
      "['bbox', '600', '4220', '2764', '4292']\n"
     ]
    }
   ],
   "source": [
    "i=0\n",
    "first = 0\n",
    "last = 0\n",
    "coords_inital = names[0].attrs['title'].split(\" \")\n",
    "x1_curr = 0\n",
    "y1_curr = int(coords_inital[2])\n",
    "x2_curr = 2594\n",
    "y2_curr = int(coords_inital[4])\n",
    "for i in range(1, len(names)):\n",
    "    coords = names[i].attrs['title'].split(\" \")\n",
    "    print(coords)        \n",
    "    x1_future = 0\n",
    "    y1_future = int(coords[2])\n",
    "    x2_future = 2594\n",
    "    y2_future = int(coords[4])\n",
    "    if(y2_curr-y1_curr<=160 and y2_curr-y1_curr>=100 and y2_curr-y1_curr!=3949 and y1_future-y2_curr<=450 and y1_future-y2_curr>=180):\n",
    "        if(first==0):\n",
    "            cropped_example = original.crop((x1_curr, 0, x2_curr, (y1_curr-30)))\n",
    "            cropped_example.save(\"00007_0.jpg\")\n",
    "            cropped_example = original.crop((x1_curr, (y1_curr-30), x2_curr, y1_curr+(y1_future-y2_curr+10)))\n",
    "            cropped_example.save(\"00007_\"+str(i)+\".jpg\")\n",
    "            first = 1\n",
    "        else:\n",
    "            cropped_example = original.crop((x1_curr, (y1_curr-30), x2_curr, y1_curr+(y1_future-y2_curr+10)))\n",
    "            cropped_example.save(\"00007_\"+str(i)+\".jpg\")\n",
    "    elif(y1_future-y2_curr<0 and names[i-1].text.strip().split(' ')[0].isupper()):\n",
    "        print(names[i-1].text)\n",
    "        cropped_example = original.crop((x1_curr, (y1_curr-30), x2_curr, 3949))\n",
    "        cropped_example.save(\"00007_\"+str(i)+\".jpg\")\n",
    "        last = 1\n",
    "    x1_curr = x1_future\n",
    "    x2_curr = x2_future\n",
    "    y1_curr = y1_future\n",
    "    y2_curr = y2_future\n",
    "    i=i+1"
   ]
  },
  {
   "cell_type": "code",
   "execution_count": null,
   "metadata": {},
   "outputs": [],
   "source": []
  }
 ],
 "metadata": {
  "kernelspec": {
   "display_name": "Python 3",
   "language": "python",
   "name": "python3"
  },
  "language_info": {
   "codemirror_mode": {
    "name": "ipython",
    "version": 3
   },
   "file_extension": ".py",
   "mimetype": "text/x-python",
   "name": "python",
   "nbconvert_exporter": "python",
   "pygments_lexer": "ipython3",
   "version": "3.5.2"
  }
 },
 "nbformat": 4,
 "nbformat_minor": 2
}
