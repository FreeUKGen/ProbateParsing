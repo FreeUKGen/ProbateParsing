{
 "cells": [
  {
   "cell_type": "code",
   "execution_count": 167,
   "metadata": {},
   "outputs": [],
   "source": [
    "from bs4 import BeautifulSoup\n",
    "from PIL import Image\n",
    "import string\n",
    "path = \"1873 Probate/1873 Probate B/\"\n",
    "dest_path = \"Cropped_B2/\"\n",
    "test_image = \"00030.jpg\"\n",
    "filename = test_image.split(\".\")[0]+\"_\"\n",
    "original = Image.open(path+test_image)\n",
    "max_w, max_h = original.size"
   ]
  },
  {
   "cell_type": "code",
   "execution_count": 168,
   "metadata": {},
   "outputs": [],
   "source": [
    "with open(path+test_image+'.hocr', 'r') as myfile:\n",
    "    data=myfile.read().replace('\\n', '')\n",
    "soup = BeautifulSoup(data, 'lxml')"
   ]
  },
  {
   "cell_type": "code",
   "execution_count": 169,
   "metadata": {},
   "outputs": [
    {
     "name": "stdout",
     "output_type": "stream",
     "text": [
      "  BAKER Sarah.  Effects under £3,000.   \n",
      "41\n",
      "['bbox', '125', '934', '850', '1071']\n"
     ]
    }
   ],
   "source": [
    "names = soup.find_all('div',attrs={\"class\":\"ocr_carea\"})\n",
    "print(names[4].text)\n",
    "print(len(names))\n",
    "coords = names[2].attrs['title'].split(\" \")\n",
    "print(coords)"
   ]
  },
  {
   "cell_type": "code",
   "execution_count": 170,
   "metadata": {},
   "outputs": [
    {
     "name": "stdout",
     "output_type": "stream",
     "text": [
      "  BAKER Rebecca.  Eﬂects under £100.   \n",
      "  BAKER Richard.  Effects under £100.   \n",
      "  BAKER Richard Davies Esq.  Effects under £2,000.   \n",
      "  BAKER Sarah.  Eﬁ‘eets under £100.   \n",
      "  BAKER Sarah.  Effects under £3,000.   \n",
      "  BAKER Susan.  Eﬁ‘ects under £450.   \n",
      "  BAKER Susanna.  Effects under £100.   \n",
      "  BAKER Thomas.  Effects under £1,500.   \n",
      "  1613.  The Will of Rebecca Baker late of   \n",
      "  Township of Oldbury in the County of   \n",
      "  Worcester Widow who died 8 June 1873 at Langley was  proved at Worcester by Samuel Baker of Langley Smith  the Son and John Worthing of Oldbury Hatter the Executors.   \n",
      "  21 November.  Langley in the   \n",
      "  21 October. The Will of Richard Baker late of Birming.   \n",
      "  barn in the County of Warwick Gentleman who died 2  September 1873 at Birmingham was proved at Birming.  ham by Emma Baker of Birmingham Widow the Relict the   \n",
      "  sole Executrix.   \n",
      "  The Will of Richard Davies Baker late of  e County of Cork in Ireland Esquire a  who died 20 November 1873 at 12 Suffolk-  the County of Middlesex was proved at the   \n",
      "  Principal Registry by Godfrey Alexander Baker of 36  Cleveland-square in the County of Middlesex Esquire the h   \n",
      "  Nephew one of the Executors.   \n",
      "  13 December.  Fort William in th  Captain unattached  street Pall Mail in   \n",
      "  The Will of Sarah Baker (Wife of John a   \n",
      "  late of Huskisson-street Liverpool in- the County  r who died 26 February 1872 at Huskisson-street i:  he said John Spiers Baker of 46  Probate   \n",
      "  7 February.  Spiers Baker)   \n",
      "  of Lancaste  was proved at Liverpool by t  Huskisson-street Notary Public the sole Executor.   \n",
      "  being granted under certain Limitations.   \n",
      "  4 December. The Will of Sarah Baker late of Stamford   \n",
      "  in the County of Lincoln Spinster who died 24 October 1873  at Stamford was proved at the Principal Registry by  George Baker of Stamford Gentleman the Brother the sole   \n",
      "  .._ A; .nm, _   \n",
      "  4 July. The Will of Susan Baker late of Hare-street  in the Parish of Great Hormead in the County of Hertford   \n",
      "  Widow who died 9March 1873 at Hare-street was proved at   \n",
      "  the Principal Registry by Frederick Moule of Hare-street  in the Parish of Layston in the said County Shoemaker and   \n",
      "  William Camp of Buntingford in the said County Sawyer the  Nephew the Executors. -   \n",
      "  8 October. The Will of Susanna Baker late of 131  Marylebonevroad in the County of Middlesex Widow who  died 28 September 1873 at 5 Culworth-street Regent’s Park in  the said County was proved at the Principal Registry by  George James Hildreth of 41 Norfolk-street Strand in the said   \n",
      "  County Navy Agent one of the' surviving Executors.   \n",
      "  Administration of the ‘eﬁ'eets of Thomas   \n",
      "  6 February.  Baker late of Little Farmeott in the Parish of Guyting Power  ter Farmer who died 3 October   \n",
      "  in the County of Glouces  1872 at Little Farmcott was granted at Gloucester to Mary  Ann Baker of Little Farmcott Widow the Relict.   \n"
     ]
    }
   ],
   "source": [
    "for name in names:\n",
    "    for name in names:\n",
    "        if(name.text.strip() == \"\" or name.text.strip().startswith(\"Image\") or len(name.text)<15):\n",
    "            names.remove(name)\n",
    "\n",
    "for name in names:\n",
    "    print(name.text)"
   ]
  },
  {
   "cell_type": "code",
   "execution_count": 171,
   "metadata": {},
   "outputs": [
    {
     "name": "stdout",
     "output_type": "stream",
     "text": [
      "BAKER\n",
      "BAKER\n",
      "BAKER\n",
      "BAKER\n",
      "BAKER\n",
      "BAKER\n",
      "BAKER\n",
      "BAKER\n",
      "1613.\n",
      "Township\n",
      "Worcester\n",
      "21\n",
      "21\n",
      "barn\n",
      "sole\n",
      "The\n",
      "Principal\n",
      "Nephew\n",
      "13\n",
      "The\n",
      "late\n",
      "7\n",
      "of\n",
      "being\n",
      "4\n",
      "in\n",
      ".._\n",
      "4\n",
      "Widow\n",
      "the\n",
      "William\n",
      "8\n",
      "County\n",
      "Administration\n",
      "6\n",
      "in\n"
     ]
    }
   ],
   "source": [
    "entries = []\n",
    "for name in names:\n",
    "    first_word = name.text.strip().split(\" \")\n",
    "    print(first_word[0])\n",
    "    if(first_word[0].isnumeric()):\n",
    "        entries.append(name)"
   ]
  },
  {
   "cell_type": "code",
   "execution_count": 172,
   "metadata": {},
   "outputs": [
    {
     "name": "stdout",
     "output_type": "stream",
     "text": [
      "  21 November.  Langley in the   \n",
      "  21 October. The Will of Richard Baker late of Birming.   \n",
      "  13 December.  Fort William in th  Captain unattached  street Pall Mail in   \n",
      "  7 February.  Spiers Baker)   \n",
      "  4 December. The Will of Sarah Baker late of Stamford   \n",
      "  4 July. The Will of Susan Baker late of Hare-street  in the Parish of Great Hormead in the County of Hertford   \n",
      "  8 October. The Will of Susanna Baker late of 131  Marylebonevroad in the County of Middlesex Widow who  died 28 September 1873 at 5 Culworth-street Regent’s Park in  the said County was proved at the Principal Registry by  George James Hildreth of 41 Norfolk-street Strand in the said   \n",
      "  6 February.  Baker late of Little Farmeott in the Parish of Guyting Power  ter Farmer who died 3 October   \n"
     ]
    }
   ],
   "source": [
    "for entry in entries:\n",
    "    print(entry.text)"
   ]
  },
  {
   "cell_type": "code",
   "execution_count": 173,
   "metadata": {},
   "outputs": [
    {
     "name": "stdout",
     "output_type": "stream",
     "text": [
      "1 216 484\n",
      "2 550 908\n",
      "3 1116 1424\n",
      "4 1529 1845\n",
      "5 1921 2241\n",
      "6 2372 2759\n",
      "7 3071 3271\n"
     ]
    }
   ],
   "source": [
    "coords_initial = entries[0].attrs['title'].split(\" \")\n",
    "x1_curr = 0\n",
    "y1_curr = int(coords_initial[2])\n",
    "x2_curr = max_w\n",
    "y2_curr = int(coords_initial[4])\n",
    "i=0\n",
    "first=0\n",
    "for i in range(1, len(entries)):\n",
    "    coords = entries[i].attrs['title'].split(\" \")\n",
    "    x1_future = 0\n",
    "    y1_future = int(coords[2])\n",
    "    x2_future = max_w\n",
    "    y2_future = int(coords[4])\n",
    "    print(str(i)+\" \"+str(y2_curr)+\" \"+str(y1_future))\n",
    "    if(y1_future-y2_curr>0):\n",
    "        if(first == 0):\n",
    "            #print(entries[i].text)\n",
    "            cropped_example = original.crop((x1_curr, 0, x2_curr, (y1_curr-30)))\n",
    "            cropped_example.save(dest_path+filename+\"0.jpg\")\n",
    "            cropped_example = original.crop((x1_curr, (y1_curr-60), x2_curr, y1_future))\n",
    "            cropped_example.save(dest_path+filename+str(i)+\".jpg\")\n",
    "            first = 1\n",
    "        else:\n",
    "            #print(entries[i].text)\n",
    "            cropped_example = original.crop((x1_curr, (y1_curr-60), x2_curr, y1_future))\n",
    "            cropped_example.save(dest_path+filename+str(i)+\".jpg\")\n",
    "        \n",
    "    elif(i==len(entries)-1 or y1_future-y2_curr<=0):\n",
    "        print(\"Last element: \"+entries[i].text)\n",
    "        cropped_example = original.crop((x1_curr, (y1_future-60), x2_curr, max_h))\n",
    "        cropped_example.save(dest_path+filename+str(i)+\".jpg\")\n",
    "    x1_curr = x1_future\n",
    "    x2_curr = x2_future\n",
    "    y1_curr = y1_future\n",
    "    y2_curr = y2_future\n",
    "    i=i+1\n",
    "\n",
    "cropped_example = original.crop((x1_curr, (y1_future-60), x2_curr, max_h))\n",
    "cropped_example.save(dest_path+filename+str(i)+\".jpg\")"
   ]
  },
  {
   "cell_type": "code",
   "execution_count": null,
   "metadata": {},
   "outputs": [],
   "source": []
  }
 ],
 "metadata": {
  "kernelspec": {
   "display_name": "Python 3",
   "language": "python",
   "name": "python3"
  },
  "language_info": {
   "codemirror_mode": {
    "name": "ipython",
    "version": 3
   },
   "file_extension": ".py",
   "mimetype": "text/x-python",
   "name": "python",
   "nbconvert_exporter": "python",
   "pygments_lexer": "ipython3",
   "version": "3.5.2"
  }
 },
 "nbformat": 4,
 "nbformat_minor": 2
}
