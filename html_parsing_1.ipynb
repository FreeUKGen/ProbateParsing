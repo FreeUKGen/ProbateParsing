{
 "cells": [
  {
   "cell_type": "code",
   "execution_count": 57,
   "metadata": {},
   "outputs": [],
   "source": [
    "from bs4 import BeautifulSoup\n",
    "from PIL import Image\n",
    "test_image = \"00008.jpg\"\n",
    "original = Image.open(test_image)"
   ]
  },
  {
   "cell_type": "code",
   "execution_count": 58,
   "metadata": {},
   "outputs": [],
   "source": [
    "with open('00008.hocr', 'r') as myfile:\n",
    "    data=myfile.read().replace('\\n', '')\n",
    "soup = BeautifulSoup(data, 'lxml')"
   ]
  },
  {
   "cell_type": "code",
   "execution_count": 59,
   "metadata": {},
   "outputs": [
    {
     "name": "stdout",
     "output_type": "stream",
     "text": [
      "  ABEL Mary Ann.  Effects under £4,000.   \n",
      "34\n",
      "['bbox', '0', '2284', '209', '4292']\n"
     ]
    }
   ],
   "source": [
    "names = soup.find_all('div',attrs={\"class\":\"ocr_carea\"})\n",
    "print(names[4].text)\n",
    "print(len(names))\n",
    "coords = names[2].attrs['title'].split(\" \")\n",
    "print(coords)"
   ]
  },
  {
   "cell_type": "code",
   "execution_count": 60,
   "metadata": {},
   "outputs": [],
   "source": [
    "for name in names:\n",
    "    if name.text.strip() is \"\" or name.text.strip().startswith(\"Image\"):\n",
    "        names.remove(name)"
   ]
  },
  {
   "cell_type": "code",
   "execution_count": 62,
   "metadata": {},
   "outputs": [
    {
     "name": "stdout",
     "output_type": "stream",
     "text": [
      "['bbox', '0', '0', '2772', '433']\n",
      "['bbox', '342', '620', '916', '749']\n",
      "['bbox', '349', '1171', '901', '1306']\n",
      "['bbox', '347', '1512', '904', '1635']\n",
      "['bbox', '354', '1946', '992', '2085']\n",
      "['bbox', '846', '2670', '1162', '2758']\n",
      "['bbox', '360', '2759', '1097', '2857']\n",
      "['bbox', '571', '2850', '1165', '2986']\n",
      "['bbox', '363', '3308', '1017', '3444']\n",
      "['bbox', '368', '3775', '964', '3916']\n",
      "['bbox', '1256', '466', '1448', '540']\n",
      "  ABLITT George.  Eﬁ‘ects under £5,000.   \n",
      "['bbox', '1213', '582', '2396', '1031']\n",
      "['bbox', '1223', '1044', '1859', '1086']\n",
      "['bbox', '1222', '1179', '2399', '1416']\n",
      "['bbox', '1234', '1506', '2406', '1622']\n",
      "['bbox', '1208', '1617', '2409', '1678']\n",
      "['bbox', '1236', '1670', '2410', '1793']\n",
      "['bbox', '1190', '1786', '1622', '1842']\n",
      "['bbox', '1264', '1939', '2414', '1999']\n",
      "['bbox', '1206', '1994', '2415', '2053']\n",
      "['bbox', '1243', '2052', '2425', '2554']\n",
      "['bbox', '1250', '2662', '2433', '3167']\n",
      "['bbox', '1257', '3279', '2440', '3567']\n",
      "['bbox', '1258', '3566', '2175', '3619']\n",
      "['bbox', '1301', '3743', '2443', '3803']\n",
      "['bbox', '1259', '3806', '2450', '4037']\n",
      "['bbox', '2669', '1844', '2774', '1890']\n",
      "['bbox', '2690', '2258', '2774', '2295']\n",
      "['bbox', '2703', '2711', '2774', '2753']\n",
      "['bbox', '2722', '3145', '2774', '3189']\n"
     ]
    }
   ],
   "source": [
    "i=0\n",
    "first = 0\n",
    "last = 0\n",
    "coords_inital = names[0].attrs['title'].split(\" \")\n",
    "x1_curr = 0\n",
    "y1_curr = int(coords_inital[2])\n",
    "x2_curr = 2774\n",
    "y2_curr = int(coords_inital[4])\n",
    "for i in range(1, len(names)):\n",
    "    coords = names[i].attrs['title'].split(\" \")\n",
    "    print(coords)        \n",
    "    x1_future = 0\n",
    "    y1_future = int(coords[2])\n",
    "    x2_future = 2774\n",
    "    y2_future = int(coords[4])\n",
    "    if(y2_curr-y1_curr<=160 and y2_curr-y1_curr>=100 and y2_curr-y1_curr!=4297 and y1_future-y2_curr>=180):\n",
    "        if(first==0):\n",
    "            cropped_example = original.crop((x1_curr, 0, x2_curr, (y1_curr-30)))\n",
    "            cropped_example.save(\"00008_0.jpg\")\n",
    "            cropped_example = original.crop((x1_curr, (y1_curr-30), x2_curr, y1_curr+(y1_future-y2_curr+10)))\n",
    "            cropped_example.save(\"00008_\"+str(i)+\".jpg\")\n",
    "            first = 1\n",
    "        else:\n",
    "            cropped_example = original.crop((x1_curr, (y1_curr-30), x2_curr, y1_curr+(y1_future-y2_curr+10)))\n",
    "            cropped_example.save(\"00008_\"+str(i)+\".jpg\")\n",
    "    elif(y1_future-y2_curr<0 and names[i-1].text.strip().split(' ')[0].isupper()):\n",
    "        print(names[i-1].text)\n",
    "        cropped_example = original.crop((x1_curr, (y1_curr-30), x2_curr, 4297))\n",
    "        cropped_example.save(\"00008_\"+str(i)+\".jpg\")\n",
    "        last = 1\n",
    "    x1_curr = x1_future\n",
    "    x2_curr = x2_future\n",
    "    y1_curr = y1_future\n",
    "    y2_curr = y2_future\n",
    "    i=i+1"
   ]
  },
  {
   "cell_type": "code",
   "execution_count": null,
   "metadata": {},
   "outputs": [],
   "source": []
  }
 ],
 "metadata": {
  "kernelspec": {
   "display_name": "Python 3",
   "language": "python",
   "name": "python3"
  },
  "language_info": {
   "codemirror_mode": {
    "name": "ipython",
    "version": 3
   },
   "file_extension": ".py",
   "mimetype": "text/x-python",
   "name": "python",
   "nbconvert_exporter": "python",
   "pygments_lexer": "ipython3",
   "version": "3.5.2"
  }
 },
 "nbformat": 4,
 "nbformat_minor": 2
}
