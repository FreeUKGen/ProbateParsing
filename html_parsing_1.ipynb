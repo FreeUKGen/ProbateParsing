{
 "cells": [
  {
   "cell_type": "code",
   "execution_count": 6,
   "metadata": {},
   "outputs": [],
   "source": [
    "from bs4 import BeautifulSoup\n",
    "from PIL import Image\n",
    "path = \"1873 Probate/1873 Probate B/\"\n",
    "test_image = \"00006.jpg\"\n",
    "filename = test_image.split(\".\")[0]+\"_\"\n",
    "original = Image.open(path+test_image)\n",
    "max_w, max_h = original.size"
   ]
  },
  {
   "cell_type": "code",
   "execution_count": 7,
   "metadata": {},
   "outputs": [],
   "source": [
    "with open(path+test_image+'.hocr', 'r') as myfile:\n",
    "    data=myfile.read().replace('\\n', '')\n",
    "soup = BeautifulSoup(data, 'lxml')"
   ]
  },
  {
   "cell_type": "code",
   "execution_count": 8,
   "metadata": {},
   "outputs": [
    {
     "name": "stdout",
     "output_type": "stream",
     "text": [
      "  BADGER The Reverend Albert.  Effects under £200.   \n",
      "28\n",
      "['bbox', '118', '1354', '738', '1484']\n"
     ]
    }
   ],
   "source": [
    "names = soup.find_all('div',attrs={\"class\":\"ocr_carea\"})\n",
    "print(names[4].text)\n",
    "print(len(names))\n",
    "coords = names[2].attrs['title'].split(\" \")\n",
    "print(coords)"
   ]
  },
  {
   "cell_type": "code",
   "execution_count": 9,
   "metadata": {},
   "outputs": [],
   "source": [
    "for name in names:\n",
    "    if name.text.strip() is \"\" or name.text.strip().startswith(\"Image\"):\n",
    "        names.remove(name)"
   ]
  },
  {
   "cell_type": "code",
   "execution_count": 10,
   "metadata": {},
   "outputs": [
    {
     "name": "stdout",
     "output_type": "stream",
     "text": [
      "['bbox', '101', '705', '695', '831']\n",
      "['bbox', '118', '1354', '738', '1484']\n",
      "['bbox', '126', '1769', '688', '1902']\n",
      "['bbox', '132', '2080', '909', '2220']\n",
      "['bbox', '138', '2525', '687', '2650']\n",
      "['bbox', '140', '2898', '726', '3030']\n",
      "['bbox', '144', '3268', '725', '3404']\n",
      "['bbox', '278', '3635', '359', '3657']\n",
      "['bbox', '945', '18', '1134', '89']\n",
      "['bbox', '953', '124', '2225', '519']\n",
      "['bbox', '966', '535', '1266', '574']\n",
      "['bbox', '972', '649', '2235', '1208']\n",
      "['bbox', '992', '1297', '2164', '1595']\n",
      "['bbox', '998', '1601', '1184', '1639']\n",
      "['bbox', '2243', '1513', '2246', '1537']\n",
      "['bbox', '1046', '1712', '2170', '1788']\n",
      "['bbox', '1004', '1768', '2173', '1956']\n",
      "['bbox', '1010', '2035', '2184', '2218']\n",
      "['bbox', '1013', '2200', '2183', '2331']\n",
      "['bbox', '1018', '2329', '1721', '2386']\n",
      "['bbox', '1021', '2448', '2290', '2758']\n",
      "['bbox', '1025', '2824', '2203', '3073']\n",
      "['bbox', '1029', '3085', '1300', '3124']\n",
      "['bbox', '1032', '3206', '2217', '3399']\n",
      "['bbox', '1035', '3379', '2222', '3515']\n",
      "['bbox', '1041', '3499', '1952', '3575']\n"
     ]
    }
   ],
   "source": [
    "i=0\n",
    "first = 0\n",
    "last = 0\n",
    "coords_inital = names[0].attrs['title'].split(\" \")\n",
    "x1_curr = 0\n",
    "y1_curr = int(coords_inital[2])\n",
    "x2_curr = max_w\n",
    "y2_curr = int(coords_inital[4])\n",
    "for i in range(1, len(names)):\n",
    "    coords = names[i].attrs['title'].split(\" \")\n",
    "    print(coords)        \n",
    "    x1_future = 0\n",
    "    y1_future = int(coords[2])\n",
    "    x2_future = max_w\n",
    "    y2_future = int(coords[4])\n",
    "    if(y2_curr-y1_curr<=160 and y2_curr-y1_curr>=100 and y2_curr-y1_curr!=max_h and y1_future-y2_curr>=180):\n",
    "        if(first==0):\n",
    "            cropped_example = original.crop((x1_curr, 0, x2_curr, (y1_curr-30)))\n",
    "            cropped_example.save(filename+\"0.jpg\")\n",
    "            cropped_example = original.crop((x1_curr, (y1_curr-30), x2_curr, y1_curr+(y1_future-y2_curr+10)))\n",
    "            cropped_example.save(filename+str(i)+\".jpg\")\n",
    "            first = 1\n",
    "        else:\n",
    "            cropped_example = original.crop((x1_curr, (y1_curr-30), x2_curr, y1_curr+(y1_future-y2_curr+10)))\n",
    "            cropped_example.save(filename+str(i)+\".jpg\")\n",
    "    elif(y1_future-y2_curr<0 and names[i-1].text.strip().split(' ')[0].isupper()):\n",
    "        print(names[i-1].text)\n",
    "        cropped_example = original.crop((x1_curr, (y1_curr-30), x2_curr, max_h))\n",
    "        cropped_example.save(filename+str(i)+\".jpg\")\n",
    "        last = 1\n",
    "    x1_curr = x1_future\n",
    "    x2_curr = x2_future\n",
    "    y1_curr = y1_future\n",
    "    y2_curr = y2_future\n",
    "    i=i+1"
   ]
  },
  {
   "cell_type": "code",
   "execution_count": null,
   "metadata": {},
   "outputs": [],
   "source": []
  }
 ],
 "metadata": {
  "kernelspec": {
   "display_name": "Python 3",
   "language": "python",
   "name": "python3"
  },
  "language_info": {
   "codemirror_mode": {
    "name": "ipython",
    "version": 3
   },
   "file_extension": ".py",
   "mimetype": "text/x-python",
   "name": "python",
   "nbconvert_exporter": "python",
   "pygments_lexer": "ipython3",
   "version": "3.5.2"
  }
 },
 "nbformat": 4,
 "nbformat_minor": 2
}
